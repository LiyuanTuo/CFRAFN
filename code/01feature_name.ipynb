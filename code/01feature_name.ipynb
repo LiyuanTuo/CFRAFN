{
 "cells": [
  {
   "cell_type": "markdown",
   "metadata": {},
   "source": [
    "# eGeMAPSv02特征处理\n",
    "\n",
    "折中的特征选择方案：对特征进行增强后，去除方差小于0.01的特征\n",
    "最终数据矩阵 420×52, \n",
    "\n",
    "后续实验发现：重要性方面的特征中反而方差不大的几个特征的重要性很高。故选择去除方差小于0.001的特征，而小于0.001的特征其实就两个，而这两个的方差都为0。所以这一步处理与去除0方差的特征无异。"
   ]
  },
  {
   "cell_type": "code",
   "execution_count": 1,
   "metadata": {},
   "outputs": [],
   "source": [
    "import opensmile\n",
    "import os\n",
    "from tqdm import tqdm\n",
    "import pandas as pd\n",
    "import librosa\n",
    "import numpy as np\n",
    "from sklearn.preprocessing import MinMaxScaler\n",
    "\n",
    "smile = opensmile.Smile(\n",
    "    feature_set=opensmile.FeatureSet.eGeMAPSv02,\n",
    "    feature_level=opensmile.FeatureLevel.Functionals,\n",
    ")\n",
    "\n",
    "df = pd.read_csv(\"../data/self_control.csv\")\n",
    "shuffled_df = df.sample(frac=1, random_state=42).reset_index(drop=True)\n",
    "\n",
    "X = shuffled_df['name']\n",
    "y = shuffled_df['class']\n",
    "self_folder = \"../data/self_control/\""
   ]
  },
  {
   "cell_type": "markdown",
   "metadata": {},
   "source": [
    "使用self control和group_control测试后（不进行数据增强），原始特征矩阵为60×89\n",
    "发现都含有60个eGeMAPSv02特征为全0，或者方差为0。\n",
    "但是经过数据增强后，方差为0的特征只有2个\n",
    "\n",
    "\n",
    "折中方案：保留方差大于0.01的特征  最后特征矩阵为420×52，包括一列label"
   ]
  },
  {
   "cell_type": "code",
   "execution_count": 2,
   "metadata": {},
   "outputs": [
    {
     "name": "stderr",
     "output_type": "stream",
     "text": [
      "100%|██████████| 60/60 [10:19<00:00, 10.33s/it]\n"
     ]
    }
   ],
   "source": [
    "def enhance_data(file):\n",
    "    data, sampling_rate = librosa.load(file, sr=None) \n",
    "    noises = data + 0.05 * np.random.randn(len(data)) # 向音频数据中添加不同强度的随机噪声\n",
    "    pitches = librosa.effects.pitch_shift(data, sr=sampling_rate, n_steps=2) # 改变音频的音高\n",
    "    stretches = librosa.effects.time_stretch(data, rate=2) # 改变音频的播放速度\n",
    "    volumes = data * 2 # 调整音频的音量\n",
    "    # 将音频数据从中间切割为两部分\n",
    "    mid_index = len(data) // 2\n",
    "    cut1 = data[:mid_index]\n",
    "    cut2 = data[mid_index:]\n",
    "\n",
    "    group = [data,noises,pitches,stretches,volumes,cut1,cut2]\n",
    "    return group, sampling_rate\n",
    "\n",
    "def process_group(group, sampling_rate, label):\n",
    "    enhance = []\n",
    "    for g in group:\n",
    "        features_eGeMAPS = smile.process_signal(g, sampling_rate)\n",
    "        \n",
    "        features_eGeMAPS['label'] = label\n",
    "        enhance.append(features_eGeMAPS)\n",
    "    return enhance\n",
    "\n",
    "\n",
    "features_lst = []\n",
    "for index in tqdm(range(len(X))) :\n",
    "    filename = X.iloc[index]\n",
    "    label = y.iloc[index]\n",
    "    for root, dirs, files in os.walk(self_folder):\n",
    "        if filename in files:\n",
    "            full_path = os.path.join(root, filename)\n",
    "            group, sampling_rate = enhance_data(full_path)\n",
    "            # print(sampling_rate)\n",
    "            features_eGeMAPS = process_group(group, sampling_rate, label)\n",
    "            features_lst.extend(features_eGeMAPS)\n",
    "\n"
   ]
  },
  {
   "cell_type": "markdown",
   "metadata": {},
   "source": [
    "## minmax归一化"
   ]
  },
  {
   "cell_type": "code",
   "execution_count": 9,
   "metadata": {},
   "outputs": [
    {
     "data": {
      "text/plain": [
       "87"
      ]
     },
     "execution_count": 9,
     "metadata": {},
     "output_type": "execute_result"
    }
   ],
   "source": [
    "features_df = pd.concat(features_lst).reset_index(drop=True)\n",
    "\n",
    "# 最大最小归一化\n",
    "features = features_df.drop(columns=['label'])\n",
    "minmax_transfer = MinMaxScaler()\n",
    "features = minmax_transfer.fit_transform(features)\n",
    "\n",
    "df_features = pd.DataFrame(features, columns=features_df.columns.tolist()[:-1])\n",
    "df_features['label'] = features_df['label']\n",
    "\n",
    "column_variances = df_features.var()\n",
    "\n",
    "selected_columns = column_variances[column_variances > 0.001].index.tolist()\n",
    "df_features_filtered = df_features[selected_columns]\n",
    "len(selected_columns)\n"
   ]
  },
  {
   "cell_type": "markdown",
   "metadata": {},
   "source": [
    "## 输出过滤的特征"
   ]
  },
  {
   "cell_type": "code",
   "execution_count": 7,
   "metadata": {},
   "outputs": [],
   "source": [
    "filter_f = df_features.loc[:, (df_features.var() <= 0.001)]\n",
    "filter_f.columns.tolist()\n",
    "\n",
    "with open(\"../result/01preprocess/varLessthan0.001.txt\",'w')as f:\n",
    "    for i in filter_f:\n",
    "        f.write(f\"{i}\\n\")"
   ]
  },
  {
   "cell_type": "markdown",
   "metadata": {},
   "source": [
    "## 特征名称映射"
   ]
  },
  {
   "cell_type": "code",
   "execution_count": 10,
   "metadata": {},
   "outputs": [],
   "source": [
    "# original_feature_names = df_features_filtered.columns\n",
    "# print(original_feature_names) # shape=52\n",
    "\n",
    "# features_name_mapping = {\n",
    "#  'loudness_sma3_amean' :'ld-sma3(amean)',\n",
    "#  'loudness_sma3_stddevNorm':'ld-sma3(stddevNorm)',\n",
    "#  'loudness_sma3_percentile20.0':'ld-sma3(pctl20)',\n",
    "#  'loudness_sma3_percentile50.0':'ld-sma3(pctl50)',\n",
    "#  'loudness_sma3_percentile80.0':'ld-sma3(pctl80)',\n",
    "#  'loudness_sma3_pctlrange0-2':'ld-sma3(pctl0-2)',\n",
    "#  'loudness_sma3_meanRisingSlope':'ld-sma3(meanRS)',\n",
    "#  'loudness_sma3_stddevRisingSlope':'ld-sma3(stdRS)',\n",
    "#  'loudness_sma3_meanFallingSlope':'ld-sma3(meanFS)',\n",
    "#  'loudness_sma3_stddevFallingSlope':'ld-sma3(stdFS)',\n",
    "#  'spectralFlux_sma3_amean':'sf-sma3(amean)',\n",
    "#  'spectralFlux_sma3_stddevNorm':'sf-sma3(stdNorm)',\n",
    "#  'mfcc1_sma3_amean':'mfcc1-sma3(amean)',\n",
    "#  'mfcc1_sma3_stddevNorm':'mfcc1-sma3(stdNorm)',\n",
    "#  'mfcc2_sma3_amean':'mfcc2-sma3(amean)',\n",
    "#  'mfcc2_sma3_stddevNorm':'mfcc2-sma3(stdNorm)',\n",
    "#  'mfcc3_sma3_amean':'mfcc3-sma3(amean)',\n",
    "#  'mfcc3_sma3_stddevNorm':'mfcc3-sma3(stdNorm)',\n",
    "#  'mfcc4_sma3_amean':'mfcc4-sma3(amean)',\n",
    "#  'mfcc4_sma3_stddevNorm':'mfcc4-sma3(stdNorm)',\n",
    "#  'alphaRatioUV_sma3nz_amean':'ar-sma3nz(amean)',\n",
    "#  'hammarbergIndexUV_sma3nz_amean':'hi-sma3nz(amean)',\n",
    "#  'slopeUV0-500_sma3nz_amean':'sl-sma3nz(0-500)(amean)',\n",
    "#  'slopeUV500-1500_sma3nz_amean':'sl-sma3nz(500-1500)(amean)',\n",
    "#  'spectralFluxUV_sma3nz_amean':'sf-sma3nz(amean)',\n",
    "#  'loudnessPeaksPerSec':'loudpeaks(persec)',\n",
    "#  'MeanUnvoicedSegmentLength':'MUSL(sec)',\n",
    "#  'equivalentSoundLevel_dBp':'esl(dBp)',\n",
    "# }\n",
    "# modified_feature_names = [\n",
    "#     features_name_mapping.get(name, name)  # 如果有映射则使用映射，否则保留原名\n",
    "#     for name in original_feature_names\n",
    "# ]\n",
    "\n",
    "# df_features_filtered.columns = modified_feature_names\n",
    "df_features_filtered.to_csv('../result/01preprocess/01features_eGeMAPS_minmax_drop0.01var.csv', index=False)"
   ]
  },
  {
   "cell_type": "markdown",
   "metadata": {},
   "source": [
    "# 备用代码"
   ]
  },
  {
   "cell_type": "code",
   "execution_count": null,
   "metadata": {},
   "outputs": [],
   "source": [
    "# features_lst = []\n",
    "# for index in tqdm(range(len(X))) :\n",
    "#     filename = X.iloc[index]\n",
    "#     label = y.iloc[index]\n",
    "#     for root, dirs, files in os.walk(self_folder):\n",
    "#         if filename in files:\n",
    "#             full_path = os.path.join(root, filename)\n",
    "#             features_eGeMAPS = smile.process_file(full_path)\n",
    "#             features_eGeMAPS['label'] = label\n",
    "#             features_lst.append(features_eGeMAPS)\n"
   ]
  }
 ],
 "metadata": {
  "kernelspec": {
   "display_name": "Desktop",
   "language": "python",
   "name": "python3"
  },
  "language_info": {
   "codemirror_mode": {
    "name": "ipython",
    "version": 3
   },
   "file_extension": ".py",
   "mimetype": "text/x-python",
   "name": "python",
   "nbconvert_exporter": "python",
   "pygments_lexer": "ipython3",
   "version": "3.11.12"
  }
 },
 "nbformat": 4,
 "nbformat_minor": 2
}
